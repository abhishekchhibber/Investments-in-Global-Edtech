{
 "cells": [
  {
   "cell_type": "markdown",
   "metadata": {},
   "source": [
    "## Things to check\n",
    "\n",
    "#### * Which are the hottest geographies?\n",
    "#### * Which are the hottest segments?\n",
    "#### * Which are the hottest geographies-segement combinations?\n"
   ]
  },
  {
   "cell_type": "code",
   "execution_count": 1,
   "metadata": {
    "collapsed": false
   },
   "outputs": [],
   "source": [
    "import pandas as pd\n",
    "import numpy as np\n",
    "from pandas import Series, DataFrame\n",
    "import matplotlib.pyplot as plt\n",
    "import seaborn as sns\n",
    "%matplotlib inline"
   ]
  },
  {
   "cell_type": "code",
   "execution_count": 2,
   "metadata": {
    "collapsed": false
   },
   "outputs": [
    {
     "data": {
      "text/html": [
       "<div>\n",
       "<table border=\"1\" class=\"dataframe\">\n",
       "  <thead>\n",
       "    <tr style=\"text-align: right;\">\n",
       "      <th></th>\n",
       "      <th>Title</th>\n",
       "      <th>Date</th>\n",
       "      <th>Trend</th>\n",
       "      <th>Country</th>\n",
       "      <th>Segment</th>\n",
       "    </tr>\n",
       "  </thead>\n",
       "  <tbody>\n",
       "    <tr>\n",
       "      <th>0</th>\n",
       "      <td>Intel launches online learning platform in Africa</td>\n",
       "      <td>15-01-16</td>\n",
       "      <td>New Products</td>\n",
       "      <td>Kenya,Nigeria,South Africa</td>\n",
       "      <td>Adult and Continuing Education</td>\n",
       "    </tr>\n",
       "    <tr>\n",
       "      <th>1</th>\n",
       "      <td>Tata TrUSts collaborates with MIT for new onli...</td>\n",
       "      <td>15-01-16</td>\n",
       "      <td>Collaboration,New Products</td>\n",
       "      <td>India</td>\n",
       "      <td>B2B Edtech Products for Schools,Platforms and LMS</td>\n",
       "    </tr>\n",
       "    <tr>\n",
       "      <th>2</th>\n",
       "      <td>Syracuse University collaborates with 2U for o...</td>\n",
       "      <td>15-01-16</td>\n",
       "      <td>Collaboration</td>\n",
       "      <td>US</td>\n",
       "      <td>Online Higher Education</td>\n",
       "    </tr>\n",
       "    <tr>\n",
       "      <th>3</th>\n",
       "      <td>Apple acquires edtech company LearnSprout</td>\n",
       "      <td>15-01-16</td>\n",
       "      <td>Investments</td>\n",
       "      <td>US</td>\n",
       "      <td>Tools for Educators</td>\n",
       "    </tr>\n",
       "    <tr>\n",
       "      <th>4</th>\n",
       "      <td>Rovio Entertainment spins off its education di...</td>\n",
       "      <td>15-01-16</td>\n",
       "      <td>Expansion</td>\n",
       "      <td>Finland</td>\n",
       "      <td>Educational Games,Pre K 12</td>\n",
       "    </tr>\n",
       "  </tbody>\n",
       "</table>\n",
       "</div>"
      ],
      "text/plain": [
       "                                               Title      Date  \\\n",
       "0  Intel launches online learning platform in Africa  15-01-16   \n",
       "1  Tata TrUSts collaborates with MIT for new onli...  15-01-16   \n",
       "2  Syracuse University collaborates with 2U for o...  15-01-16   \n",
       "3          Apple acquires edtech company LearnSprout  15-01-16   \n",
       "4  Rovio Entertainment spins off its education di...  15-01-16   \n",
       "\n",
       "                        Trend                     Country  \\\n",
       "0                New Products  Kenya,Nigeria,South Africa   \n",
       "1  Collaboration,New Products                       India   \n",
       "2               Collaboration                          US   \n",
       "3                 Investments                          US   \n",
       "4                   Expansion                     Finland   \n",
       "\n",
       "                                             Segment  \n",
       "0                     Adult and Continuing Education  \n",
       "1  B2B Edtech Products for Schools,Platforms and LMS  \n",
       "2                            Online Higher Education  \n",
       "3                                Tools for Educators  \n",
       "4                         Educational Games,Pre K 12  "
      ]
     },
     "execution_count": 2,
     "metadata": {},
     "output_type": "execute_result"
    }
   ],
   "source": [
    "data = pd.read_csv('edtech_data.csv')\n",
    "data.head()"
   ]
  },
  {
   "cell_type": "markdown",
   "metadata": {},
   "source": [
    "#### Breaking trends and selecting only investments"
   ]
  },
  {
   "cell_type": "code",
   "execution_count": 3,
   "metadata": {
    "collapsed": true
   },
   "outputs": [],
   "source": [
    "s = data['Trend'].str.split(',').apply(Series, 1).stack()\n",
    "s.index = s.index.droplevel(-1)\n",
    "s.name = 'Trend'\n",
    "del data['Trend']\n",
    "df = data.join(s)"
   ]
  },
  {
   "cell_type": "code",
   "execution_count": 4,
   "metadata": {
    "collapsed": false
   },
   "outputs": [
    {
     "data": {
      "text/html": [
       "<div>\n",
       "<table border=\"1\" class=\"dataframe\">\n",
       "  <thead>\n",
       "    <tr style=\"text-align: right;\">\n",
       "      <th></th>\n",
       "      <th>Title</th>\n",
       "      <th>Date</th>\n",
       "      <th>Country</th>\n",
       "      <th>Segment</th>\n",
       "      <th>Trend</th>\n",
       "    </tr>\n",
       "  </thead>\n",
       "  <tbody>\n",
       "    <tr>\n",
       "      <th>0</th>\n",
       "      <td>Intel launches online learning platform in Africa</td>\n",
       "      <td>15-01-16</td>\n",
       "      <td>Kenya,Nigeria,South Africa</td>\n",
       "      <td>Adult and Continuing Education</td>\n",
       "      <td>New Products</td>\n",
       "    </tr>\n",
       "    <tr>\n",
       "      <th>1</th>\n",
       "      <td>Tata TrUSts collaborates with MIT for new onli...</td>\n",
       "      <td>15-01-16</td>\n",
       "      <td>India</td>\n",
       "      <td>B2B Edtech Products for Schools,Platforms and LMS</td>\n",
       "      <td>Collaboration</td>\n",
       "    </tr>\n",
       "    <tr>\n",
       "      <th>1</th>\n",
       "      <td>Tata TrUSts collaborates with MIT for new onli...</td>\n",
       "      <td>15-01-16</td>\n",
       "      <td>India</td>\n",
       "      <td>B2B Edtech Products for Schools,Platforms and LMS</td>\n",
       "      <td>New Products</td>\n",
       "    </tr>\n",
       "    <tr>\n",
       "      <th>2</th>\n",
       "      <td>Syracuse University collaborates with 2U for o...</td>\n",
       "      <td>15-01-16</td>\n",
       "      <td>US</td>\n",
       "      <td>Online Higher Education</td>\n",
       "      <td>Collaboration</td>\n",
       "    </tr>\n",
       "    <tr>\n",
       "      <th>3</th>\n",
       "      <td>Apple acquires edtech company LearnSprout</td>\n",
       "      <td>15-01-16</td>\n",
       "      <td>US</td>\n",
       "      <td>Tools for Educators</td>\n",
       "      <td>Investments</td>\n",
       "    </tr>\n",
       "  </tbody>\n",
       "</table>\n",
       "</div>"
      ],
      "text/plain": [
       "                                               Title      Date  \\\n",
       "0  Intel launches online learning platform in Africa  15-01-16   \n",
       "1  Tata TrUSts collaborates with MIT for new onli...  15-01-16   \n",
       "1  Tata TrUSts collaborates with MIT for new onli...  15-01-16   \n",
       "2  Syracuse University collaborates with 2U for o...  15-01-16   \n",
       "3          Apple acquires edtech company LearnSprout  15-01-16   \n",
       "\n",
       "                      Country  \\\n",
       "0  Kenya,Nigeria,South Africa   \n",
       "1                       India   \n",
       "1                       India   \n",
       "2                          US   \n",
       "3                          US   \n",
       "\n",
       "                                             Segment          Trend  \n",
       "0                     Adult and Continuing Education   New Products  \n",
       "1  B2B Edtech Products for Schools,Platforms and LMS  Collaboration  \n",
       "1  B2B Edtech Products for Schools,Platforms and LMS   New Products  \n",
       "2                            Online Higher Education  Collaboration  \n",
       "3                                Tools for Educators    Investments  "
      ]
     },
     "execution_count": 4,
     "metadata": {},
     "output_type": "execute_result"
    }
   ],
   "source": [
    "df.head()"
   ]
  },
  {
   "cell_type": "code",
   "execution_count": 5,
   "metadata": {
    "collapsed": true
   },
   "outputs": [],
   "source": [
    "df1 = df[df['Trend'] == 'Investments']"
   ]
  },
  {
   "cell_type": "markdown",
   "metadata": {},
   "source": [
    "## Countries with highest edtech investments"
   ]
  },
  {
   "cell_type": "markdown",
   "metadata": {},
   "source": [
    "#### Slicing, counting and sorting countries column"
   ]
  },
  {
   "cell_type": "code",
   "execution_count": 6,
   "metadata": {
    "collapsed": false
   },
   "outputs": [
    {
     "data": {
      "text/html": [
       "<div>\n",
       "<table border=\"1\" class=\"dataframe\">\n",
       "  <thead>\n",
       "    <tr style=\"text-align: right;\">\n",
       "      <th></th>\n",
       "      <th>Title</th>\n",
       "      <th>Date</th>\n",
       "      <th>Country</th>\n",
       "      <th>Segment</th>\n",
       "      <th>Trend</th>\n",
       "    </tr>\n",
       "  </thead>\n",
       "  <tbody>\n",
       "    <tr>\n",
       "      <th>3</th>\n",
       "      <td>Apple acquires edtech company LearnSprout</td>\n",
       "      <td>15-01-16</td>\n",
       "      <td>US</td>\n",
       "      <td>Tools for Educators</td>\n",
       "      <td>Investments</td>\n",
       "    </tr>\n",
       "    <tr>\n",
       "      <th>9</th>\n",
       "      <td>LearnLaunch Accelerator launches new program</td>\n",
       "      <td>15-01-16</td>\n",
       "      <td>US</td>\n",
       "      <td>Accelerators and Incubators</td>\n",
       "      <td>Investments</td>\n",
       "    </tr>\n",
       "    <tr>\n",
       "      <th>15</th>\n",
       "      <td>Flex Class raises financing</td>\n",
       "      <td>15-01-16</td>\n",
       "      <td>India</td>\n",
       "      <td>Adult and Continuing Education</td>\n",
       "      <td>Investments</td>\n",
       "    </tr>\n",
       "    <tr>\n",
       "      <th>16</th>\n",
       "      <td>Grovo raises Series C financing</td>\n",
       "      <td>15-01-16</td>\n",
       "      <td>US</td>\n",
       "      <td>Platforms and LMS</td>\n",
       "      <td>Investments</td>\n",
       "    </tr>\n",
       "    <tr>\n",
       "      <th>17</th>\n",
       "      <td>Myly raises seed financing</td>\n",
       "      <td>15-01-16</td>\n",
       "      <td>India</td>\n",
       "      <td>Mobile Apps</td>\n",
       "      <td>Investments</td>\n",
       "    </tr>\n",
       "  </tbody>\n",
       "</table>\n",
       "</div>"
      ],
      "text/plain": [
       "                                           Title      Date Country  \\\n",
       "3      Apple acquires edtech company LearnSprout  15-01-16      US   \n",
       "9   LearnLaunch Accelerator launches new program  15-01-16      US   \n",
       "15                   Flex Class raises financing  15-01-16   India   \n",
       "16               Grovo raises Series C financing  15-01-16      US   \n",
       "17                    Myly raises seed financing  15-01-16   India   \n",
       "\n",
       "                           Segment        Trend  \n",
       "3              Tools for Educators  Investments  \n",
       "9      Accelerators and Incubators  Investments  \n",
       "15  Adult and Continuing Education  Investments  \n",
       "16               Platforms and LMS  Investments  \n",
       "17                     Mobile Apps  Investments  "
      ]
     },
     "execution_count": 6,
     "metadata": {},
     "output_type": "execute_result"
    }
   ],
   "source": [
    "df1.head()"
   ]
  },
  {
   "cell_type": "code",
   "execution_count": 7,
   "metadata": {
    "collapsed": true
   },
   "outputs": [],
   "source": [
    "s = df1['Country'].str.split(',').apply(Series, 1).stack()\n",
    "s.index = s.index.droplevel(-1)\n",
    "s.name = 'Country'\n",
    "del df1['Country']\n",
    "df2 = df1.join(s)"
   ]
  },
  {
   "cell_type": "code",
   "execution_count": 8,
   "metadata": {
    "collapsed": false
   },
   "outputs": [
    {
     "data": {
      "text/html": [
       "<div>\n",
       "<table border=\"1\" class=\"dataframe\">\n",
       "  <thead>\n",
       "    <tr style=\"text-align: right;\">\n",
       "      <th></th>\n",
       "      <th>Title</th>\n",
       "      <th>Date</th>\n",
       "      <th>Segment</th>\n",
       "      <th>Trend</th>\n",
       "      <th>Country</th>\n",
       "    </tr>\n",
       "  </thead>\n",
       "  <tbody>\n",
       "    <tr>\n",
       "      <th>3</th>\n",
       "      <td>Apple acquires edtech company LearnSprout</td>\n",
       "      <td>15-01-16</td>\n",
       "      <td>Tools for Educators</td>\n",
       "      <td>Investments</td>\n",
       "      <td>US</td>\n",
       "    </tr>\n",
       "    <tr>\n",
       "      <th>9</th>\n",
       "      <td>LearnLaunch Accelerator launches new program</td>\n",
       "      <td>15-01-16</td>\n",
       "      <td>Accelerators and Incubators</td>\n",
       "      <td>Investments</td>\n",
       "      <td>US</td>\n",
       "    </tr>\n",
       "    <tr>\n",
       "      <th>15</th>\n",
       "      <td>Flex Class raises financing</td>\n",
       "      <td>15-01-16</td>\n",
       "      <td>Adult and Continuing Education</td>\n",
       "      <td>Investments</td>\n",
       "      <td>India</td>\n",
       "    </tr>\n",
       "    <tr>\n",
       "      <th>16</th>\n",
       "      <td>Grovo raises Series C financing</td>\n",
       "      <td>15-01-16</td>\n",
       "      <td>Platforms and LMS</td>\n",
       "      <td>Investments</td>\n",
       "      <td>US</td>\n",
       "    </tr>\n",
       "    <tr>\n",
       "      <th>17</th>\n",
       "      <td>Myly raises seed financing</td>\n",
       "      <td>15-01-16</td>\n",
       "      <td>Mobile Apps</td>\n",
       "      <td>Investments</td>\n",
       "      <td>India</td>\n",
       "    </tr>\n",
       "  </tbody>\n",
       "</table>\n",
       "</div>"
      ],
      "text/plain": [
       "                                           Title      Date  \\\n",
       "3      Apple acquires edtech company LearnSprout  15-01-16   \n",
       "9   LearnLaunch Accelerator launches new program  15-01-16   \n",
       "15                   Flex Class raises financing  15-01-16   \n",
       "16               Grovo raises Series C financing  15-01-16   \n",
       "17                    Myly raises seed financing  15-01-16   \n",
       "\n",
       "                           Segment        Trend Country  \n",
       "3              Tools for Educators  Investments      US  \n",
       "9      Accelerators and Incubators  Investments      US  \n",
       "15  Adult and Continuing Education  Investments   India  \n",
       "16               Platforms and LMS  Investments      US  \n",
       "17                     Mobile Apps  Investments   India  "
      ]
     },
     "execution_count": 8,
     "metadata": {},
     "output_type": "execute_result"
    }
   ],
   "source": [
    "df2.head()"
   ]
  },
  {
   "cell_type": "code",
   "execution_count": 9,
   "metadata": {
    "collapsed": false
   },
   "outputs": [
    {
     "data": {
      "text/plain": [
       "(139, 4)"
      ]
     },
     "execution_count": 9,
     "metadata": {},
     "output_type": "execute_result"
    }
   ],
   "source": [
    "df1.shape"
   ]
  },
  {
   "cell_type": "code",
   "execution_count": 10,
   "metadata": {
    "collapsed": false
   },
   "outputs": [
    {
     "data": {
      "text/plain": [
       "(144, 5)"
      ]
     },
     "execution_count": 10,
     "metadata": {},
     "output_type": "execute_result"
    }
   ],
   "source": [
    "df2.shape"
   ]
  },
  {
   "cell_type": "code",
   "execution_count": 11,
   "metadata": {
    "collapsed": true
   },
   "outputs": [],
   "source": [
    "df3 = (pd.DataFrame(df2.groupby('Country').Title.nunique())).sort_values('Title', ascending=True )"
   ]
  },
  {
   "cell_type": "code",
   "execution_count": 12,
   "metadata": {
    "collapsed": false
   },
   "outputs": [
    {
     "data": {
      "text/html": [
       "<div>\n",
       "<table border=\"1\" class=\"dataframe\">\n",
       "  <thead>\n",
       "    <tr style=\"text-align: right;\">\n",
       "      <th></th>\n",
       "      <th>Title</th>\n",
       "    </tr>\n",
       "    <tr>\n",
       "      <th>Country</th>\n",
       "      <th></th>\n",
       "    </tr>\n",
       "  </thead>\n",
       "  <tbody>\n",
       "    <tr>\n",
       "      <th>Finland</th>\n",
       "      <td>1</td>\n",
       "    </tr>\n",
       "    <tr>\n",
       "      <th>Germany</th>\n",
       "      <td>1</td>\n",
       "    </tr>\n",
       "    <tr>\n",
       "      <th>Ireland</th>\n",
       "      <td>1</td>\n",
       "    </tr>\n",
       "    <tr>\n",
       "      <th>Italy</th>\n",
       "      <td>1</td>\n",
       "    </tr>\n",
       "    <tr>\n",
       "      <th>Norway</th>\n",
       "      <td>1</td>\n",
       "    </tr>\n",
       "    <tr>\n",
       "      <th>South Korea</th>\n",
       "      <td>1</td>\n",
       "    </tr>\n",
       "    <tr>\n",
       "      <th>Spain</th>\n",
       "      <td>1</td>\n",
       "    </tr>\n",
       "    <tr>\n",
       "      <th>Vietnam</th>\n",
       "      <td>1</td>\n",
       "    </tr>\n",
       "    <tr>\n",
       "      <th>China</th>\n",
       "      <td>3</td>\n",
       "    </tr>\n",
       "    <tr>\n",
       "      <th>Singapore</th>\n",
       "      <td>3</td>\n",
       "    </tr>\n",
       "    <tr>\n",
       "      <th>Canada</th>\n",
       "      <td>4</td>\n",
       "    </tr>\n",
       "    <tr>\n",
       "      <th>UK</th>\n",
       "      <td>6</td>\n",
       "    </tr>\n",
       "    <tr>\n",
       "      <th>India</th>\n",
       "      <td>50</td>\n",
       "    </tr>\n",
       "    <tr>\n",
       "      <th>US</th>\n",
       "      <td>70</td>\n",
       "    </tr>\n",
       "  </tbody>\n",
       "</table>\n",
       "</div>"
      ],
      "text/plain": [
       "             Title\n",
       "Country           \n",
       "Finland          1\n",
       "Germany          1\n",
       "Ireland          1\n",
       "Italy            1\n",
       "Norway           1\n",
       "South Korea      1\n",
       "Spain            1\n",
       "Vietnam          1\n",
       "China            3\n",
       "Singapore        3\n",
       "Canada           4\n",
       "UK               6\n",
       "India           50\n",
       "US              70"
      ]
     },
     "execution_count": 12,
     "metadata": {},
     "output_type": "execute_result"
    }
   ],
   "source": [
    "df3"
   ]
  },
  {
   "cell_type": "code",
   "execution_count": 13,
   "metadata": {
    "collapsed": false
   },
   "outputs": [
    {
     "data": {
      "image/png": "[encoded data removed]",
      "text/plain": [
       "<matplotlib.figure.Figure at 0x2850b4284a8>"
      ]
     },
     "metadata": {},
     "output_type": "display_data"
    }
   ],
   "source": [
    "df3[['Title']].plot.barh(stacked=True, title = 'Edtech Investments by Country', figsize=(10, 8));"
   ]
  },
  {
   "cell_type": "markdown",
   "metadata": {},
   "source": [
    "## Segments with highest edtech investments"
   ]
  },
  {
   "cell_type": "markdown",
   "metadata": {},
   "source": [
    "#### Slicing, counting and sorting Segment column"
   ]
  },
  {
   "cell_type": "code",
   "execution_count": 14,
   "metadata": {
    "collapsed": false
   },
   "outputs": [
    {
     "data": {
      "text/html": [
       "<div>\n",
       "<table border=\"1\" class=\"dataframe\">\n",
       "  <thead>\n",
       "    <tr style=\"text-align: right;\">\n",
       "      <th></th>\n",
       "      <th>Title</th>\n",
       "      <th>Date</th>\n",
       "      <th>Segment</th>\n",
       "      <th>Trend</th>\n",
       "      <th>Country</th>\n",
       "    </tr>\n",
       "  </thead>\n",
       "  <tbody>\n",
       "    <tr>\n",
       "      <th>3</th>\n",
       "      <td>Apple acquires edtech company LearnSprout</td>\n",
       "      <td>15-01-16</td>\n",
       "      <td>Tools for Educators</td>\n",
       "      <td>Investments</td>\n",
       "      <td>US</td>\n",
       "    </tr>\n",
       "    <tr>\n",
       "      <th>9</th>\n",
       "      <td>LearnLaunch Accelerator launches new program</td>\n",
       "      <td>15-01-16</td>\n",
       "      <td>Accelerators and Incubators</td>\n",
       "      <td>Investments</td>\n",
       "      <td>US</td>\n",
       "    </tr>\n",
       "    <tr>\n",
       "      <th>15</th>\n",
       "      <td>Flex Class raises financing</td>\n",
       "      <td>15-01-16</td>\n",
       "      <td>Adult and Continuing Education</td>\n",
       "      <td>Investments</td>\n",
       "      <td>India</td>\n",
       "    </tr>\n",
       "    <tr>\n",
       "      <th>16</th>\n",
       "      <td>Grovo raises Series C financing</td>\n",
       "      <td>15-01-16</td>\n",
       "      <td>Platforms and LMS</td>\n",
       "      <td>Investments</td>\n",
       "      <td>US</td>\n",
       "    </tr>\n",
       "    <tr>\n",
       "      <th>17</th>\n",
       "      <td>Myly raises seed financing</td>\n",
       "      <td>15-01-16</td>\n",
       "      <td>Mobile Apps</td>\n",
       "      <td>Investments</td>\n",
       "      <td>India</td>\n",
       "    </tr>\n",
       "  </tbody>\n",
       "</table>\n",
       "</div>"
      ],
      "text/plain": [
       "                                           Title      Date  \\\n",
       "3      Apple acquires edtech company LearnSprout  15-01-16   \n",
       "9   LearnLaunch Accelerator launches new program  15-01-16   \n",
       "15                   Flex Class raises financing  15-01-16   \n",
       "16               Grovo raises Series C financing  15-01-16   \n",
       "17                    Myly raises seed financing  15-01-16   \n",
       "\n",
       "                           Segment        Trend Country  \n",
       "3              Tools for Educators  Investments      US  \n",
       "9      Accelerators and Incubators  Investments      US  \n",
       "15  Adult and Continuing Education  Investments   India  \n",
       "16               Platforms and LMS  Investments      US  \n",
       "17                     Mobile Apps  Investments   India  "
      ]
     },
     "execution_count": 14,
     "metadata": {},
     "output_type": "execute_result"
    }
   ],
   "source": [
    "df2.head()"
   ]
  },
  {
   "cell_type": "code",
   "execution_count": 15,
   "metadata": {
    "collapsed": false
   },
   "outputs": [
    {
     "data": {
      "text/plain": [
       "(144, 5)"
      ]
     },
     "execution_count": 15,
     "metadata": {},
     "output_type": "execute_result"
    }
   ],
   "source": [
    "df2.shape"
   ]
  },
  {
   "cell_type": "code",
   "execution_count": 16,
   "metadata": {
    "collapsed": true
   },
   "outputs": [],
   "source": [
    "s = df2['Segment'].str.split(',').apply(Series, 1).stack()\n",
    "s.index = s.index.droplevel(-1)\n",
    "s.name = 'Segment'\n",
    "del df2['Segment']\n",
    "df4 = df2.join(s)"
   ]
  },
  {
   "cell_type": "code",
   "execution_count": 17,
   "metadata": {
    "collapsed": false
   },
   "outputs": [
    {
     "data": {
      "text/html": [
       "<div>\n",
       "<table border=\"1\" class=\"dataframe\">\n",
       "  <thead>\n",
       "    <tr style=\"text-align: right;\">\n",
       "      <th></th>\n",
       "      <th>Title</th>\n",
       "      <th>Date</th>\n",
       "      <th>Trend</th>\n",
       "      <th>Country</th>\n",
       "      <th>Segment</th>\n",
       "    </tr>\n",
       "  </thead>\n",
       "  <tbody>\n",
       "    <tr>\n",
       "      <th>3</th>\n",
       "      <td>Apple acquires edtech company LearnSprout</td>\n",
       "      <td>15-01-16</td>\n",
       "      <td>Investments</td>\n",
       "      <td>US</td>\n",
       "      <td>Tools for Educators</td>\n",
       "    </tr>\n",
       "    <tr>\n",
       "      <th>9</th>\n",
       "      <td>LearnLaunch Accelerator launches new program</td>\n",
       "      <td>15-01-16</td>\n",
       "      <td>Investments</td>\n",
       "      <td>US</td>\n",
       "      <td>Accelerators and Incubators</td>\n",
       "    </tr>\n",
       "    <tr>\n",
       "      <th>15</th>\n",
       "      <td>Flex Class raises financing</td>\n",
       "      <td>15-01-16</td>\n",
       "      <td>Investments</td>\n",
       "      <td>India</td>\n",
       "      <td>Adult and Continuing Education</td>\n",
       "    </tr>\n",
       "    <tr>\n",
       "      <th>16</th>\n",
       "      <td>Grovo raises Series C financing</td>\n",
       "      <td>15-01-16</td>\n",
       "      <td>Investments</td>\n",
       "      <td>US</td>\n",
       "      <td>Platforms and LMS</td>\n",
       "    </tr>\n",
       "    <tr>\n",
       "      <th>17</th>\n",
       "      <td>Myly raises seed financing</td>\n",
       "      <td>15-01-16</td>\n",
       "      <td>Investments</td>\n",
       "      <td>India</td>\n",
       "      <td>Mobile Apps</td>\n",
       "    </tr>\n",
       "  </tbody>\n",
       "</table>\n",
       "</div>"
      ],
      "text/plain": [
       "                                           Title      Date        Trend  \\\n",
       "3      Apple acquires edtech company LearnSprout  15-01-16  Investments   \n",
       "9   LearnLaunch Accelerator launches new program  15-01-16  Investments   \n",
       "15                   Flex Class raises financing  15-01-16  Investments   \n",
       "16               Grovo raises Series C financing  15-01-16  Investments   \n",
       "17                    Myly raises seed financing  15-01-16  Investments   \n",
       "\n",
       "   Country                         Segment  \n",
       "3       US             Tools for Educators  \n",
       "9       US     Accelerators and Incubators  \n",
       "15   India  Adult and Continuing Education  \n",
       "16      US               Platforms and LMS  \n",
       "17   India                     Mobile Apps  "
      ]
     },
     "execution_count": 17,
     "metadata": {},
     "output_type": "execute_result"
    }
   ],
   "source": [
    "df4.head()"
   ]
  },
  {
   "cell_type": "code",
   "execution_count": 18,
   "metadata": {
    "collapsed": false
   },
   "outputs": [
    {
     "data": {
      "text/plain": [
       "(190, 5)"
      ]
     },
     "execution_count": 18,
     "metadata": {},
     "output_type": "execute_result"
    }
   ],
   "source": [
    "df4.shape"
   ]
  },
  {
   "cell_type": "code",
   "execution_count": 19,
   "metadata": {
    "collapsed": true
   },
   "outputs": [],
   "source": [
    "df5 = (pd.DataFrame(df4.groupby('Segment').Title.nunique())).sort_values('Title', ascending=True )"
   ]
  },
  {
   "cell_type": "code",
   "execution_count": 20,
   "metadata": {
    "collapsed": false
   },
   "outputs": [
    {
     "data": {
      "text/html": [
       "<div>\n",
       "<table border=\"1\" class=\"dataframe\">\n",
       "  <thead>\n",
       "    <tr style=\"text-align: right;\">\n",
       "      <th></th>\n",
       "      <th>Title</th>\n",
       "    </tr>\n",
       "    <tr>\n",
       "      <th>Segment</th>\n",
       "      <th></th>\n",
       "    </tr>\n",
       "  </thead>\n",
       "  <tbody>\n",
       "    <tr>\n",
       "      <th>Saas Products</th>\n",
       "      <td>1</td>\n",
       "    </tr>\n",
       "    <tr>\n",
       "      <th>Pre K 12</th>\n",
       "      <td>1</td>\n",
       "    </tr>\n",
       "    <tr>\n",
       "      <th>Content Publishers</th>\n",
       "      <td>2</td>\n",
       "    </tr>\n",
       "    <tr>\n",
       "      <th>Edtech Hardware</th>\n",
       "      <td>2</td>\n",
       "    </tr>\n",
       "    <tr>\n",
       "      <th>Community and Crowd Sourcing Products</th>\n",
       "      <td>3</td>\n",
       "    </tr>\n",
       "    <tr>\n",
       "      <th>Online Vocational and Hobby Courses</th>\n",
       "      <td>3</td>\n",
       "    </tr>\n",
       "    <tr>\n",
       "      <th>Online Higher Education</th>\n",
       "      <td>3</td>\n",
       "    </tr>\n",
       "    <tr>\n",
       "      <th>Online Courses for Schools</th>\n",
       "      <td>3</td>\n",
       "    </tr>\n",
       "    <tr>\n",
       "      <th>Language Learning</th>\n",
       "      <td>6</td>\n",
       "    </tr>\n",
       "    <tr>\n",
       "      <th>Assessment Companies</th>\n",
       "      <td>6</td>\n",
       "    </tr>\n",
       "    <tr>\n",
       "      <th>B2B Edtech Products for Schools</th>\n",
       "      <td>6</td>\n",
       "    </tr>\n",
       "    <tr>\n",
       "      <th>Educational Games</th>\n",
       "      <td>7</td>\n",
       "    </tr>\n",
       "    <tr>\n",
       "      <th>Tools for Educators</th>\n",
       "      <td>7</td>\n",
       "    </tr>\n",
       "    <tr>\n",
       "      <th>Accelerators and Incubators</th>\n",
       "      <td>8</td>\n",
       "    </tr>\n",
       "    <tr>\n",
       "      <th>Tutoring</th>\n",
       "      <td>11</td>\n",
       "    </tr>\n",
       "    <tr>\n",
       "      <th>Automation Tools for Institutions</th>\n",
       "      <td>13</td>\n",
       "    </tr>\n",
       "    <tr>\n",
       "      <th>Mobile Apps</th>\n",
       "      <td>13</td>\n",
       "    </tr>\n",
       "    <tr>\n",
       "      <th>Test Preparation</th>\n",
       "      <td>16</td>\n",
       "    </tr>\n",
       "    <tr>\n",
       "      <th>Edtech Marketplace</th>\n",
       "      <td>17</td>\n",
       "    </tr>\n",
       "    <tr>\n",
       "      <th>Platforms and LMS</th>\n",
       "      <td>18</td>\n",
       "    </tr>\n",
       "    <tr>\n",
       "      <th>Adult and Continuing Education</th>\n",
       "      <td>23</td>\n",
       "    </tr>\n",
       "  </tbody>\n",
       "</table>\n",
       "</div>"
      ],
      "text/plain": [
       "                                       Title\n",
       "Segment                                     \n",
       "Saas Products                              1\n",
       "Pre K 12                                   1\n",
       "Content Publishers                         2\n",
       "Edtech Hardware                            2\n",
       "Community and Crowd Sourcing Products      3\n",
       "Online Vocational and Hobby Courses        3\n",
       "Online Higher Education                    3\n",
       "Online Courses for Schools                 3\n",
       "Language Learning                          6\n",
       "Assessment Companies                       6\n",
       "B2B Edtech Products for Schools            6\n",
       "Educational Games                          7\n",
       "Tools for Educators                        7\n",
       "Accelerators and Incubators                8\n",
       "Tutoring                                  11\n",
       "Automation Tools for Institutions         13\n",
       "Mobile Apps                               13\n",
       "Test Preparation                          16\n",
       "Edtech Marketplace                        17\n",
       "Platforms and LMS                         18\n",
       "Adult and Continuing Education            23"
      ]
     },
     "execution_count": 20,
     "metadata": {},
     "output_type": "execute_result"
    }
   ],
   "source": [
    "df5"
   ]
  },
  {
   "cell_type": "code",
   "execution_count": 21,
   "metadata": {
    "collapsed": false
   },
   "outputs": [
    {
     "data": {
      "image/png": "[encoded data removed]",
      "text/plain": [
       "<matplotlib.figure.Figure at 0x2850c47b198>"
      ]
     },
     "metadata": {},
     "output_type": "display_data"
    }
   ],
   "source": [
    "df5[['Title']].plot.barh(stacked=True, title = 'Edtech Investments by Segment', figsize=(10, 8));"
   ]
  },
  {
   "cell_type": "markdown",
   "metadata": {
    "collapsed": false
   },
   "source": [
    "## Highest geographies-segement combinations"
   ]
  },
  {
   "cell_type": "code",
   "execution_count": 31,
   "metadata": {
    "collapsed": false
   },
   "outputs": [
    {
     "data": {
      "text/plain": [
       "<matplotlib.axes._subplots.AxesSubplot at 0x2850c4c0cc0>"
      ]
     },
     "execution_count": 31,
     "metadata": {},
     "output_type": "execute_result"
    },
    {
     "data": {
      "image/png": "[encoded data removed]",
      "text/plain": [
       "<matplotlib.figure.Figure at 0x2850c5cb3c8>"
      ]
     },
     "metadata": {},
     "output_type": "display_data"
    }
   ],
   "source": [
    "dd = df4[['Country','Segment','Title']]\n",
    "gg = dd.groupby(['Country','Segment'],as_index=False).count().rename(columns={\"Title\":\"Number\"})\n",
    "gp = gg.pivot(columns=\"Country\",index=\"Segment\",values=\"Number\").fillna(0)\n",
    "sns.heatmap(gp,cbar=False)\n"
   ]
  },
  {
   "cell_type": "code",
   "execution_count": 32,
   "metadata": {
    "collapsed": false
   },
   "outputs": [
    {
     "data": {
      "text/html": [
       "<div>\n",
       "<table border=\"1\" class=\"dataframe\">\n",
       "  <thead>\n",
       "    <tr style=\"text-align: right;\">\n",
       "      <th>Country</th>\n",
       "      <th>Canada</th>\n",
       "      <th>China</th>\n",
       "      <th>Finland</th>\n",
       "      <th>Germany</th>\n",
       "      <th>India</th>\n",
       "      <th>Ireland</th>\n",
       "      <th>Italy</th>\n",
       "      <th>Norway</th>\n",
       "      <th>Singapore</th>\n",
       "      <th>South Korea</th>\n",
       "      <th>Spain</th>\n",
       "      <th>UK</th>\n",
       "      <th>US</th>\n",
       "      <th>Vietnam</th>\n",
       "    </tr>\n",
       "    <tr>\n",
       "      <th>Segment</th>\n",
       "      <th></th>\n",
       "      <th></th>\n",
       "      <th></th>\n",
       "      <th></th>\n",
       "      <th></th>\n",
       "      <th></th>\n",
       "      <th></th>\n",
       "      <th></th>\n",
       "      <th></th>\n",
       "      <th></th>\n",
       "      <th></th>\n",
       "      <th></th>\n",
       "      <th></th>\n",
       "      <th></th>\n",
       "    </tr>\n",
       "  </thead>\n",
       "  <tbody>\n",
       "    <tr>\n",
       "      <th>Accelerators and Incubators</th>\n",
       "      <td>0.0</td>\n",
       "      <td>0.0</td>\n",
       "      <td>0.0</td>\n",
       "      <td>0.0</td>\n",
       "      <td>0.0</td>\n",
       "      <td>2.0</td>\n",
       "      <td>0.0</td>\n",
       "      <td>0.0</td>\n",
       "      <td>0.0</td>\n",
       "      <td>0.0</td>\n",
       "      <td>0.0</td>\n",
       "      <td>0.0</td>\n",
       "      <td>9.0</td>\n",
       "      <td>0.0</td>\n",
       "    </tr>\n",
       "    <tr>\n",
       "      <th>Adult and Continuing Education</th>\n",
       "      <td>2.0</td>\n",
       "      <td>0.0</td>\n",
       "      <td>0.0</td>\n",
       "      <td>1.0</td>\n",
       "      <td>6.0</td>\n",
       "      <td>0.0</td>\n",
       "      <td>0.0</td>\n",
       "      <td>0.0</td>\n",
       "      <td>0.0</td>\n",
       "      <td>0.0</td>\n",
       "      <td>0.0</td>\n",
       "      <td>1.0</td>\n",
       "      <td>16.0</td>\n",
       "      <td>0.0</td>\n",
       "    </tr>\n",
       "    <tr>\n",
       "      <th>Assessment Companies</th>\n",
       "      <td>0.0</td>\n",
       "      <td>0.0</td>\n",
       "      <td>0.0</td>\n",
       "      <td>0.0</td>\n",
       "      <td>0.0</td>\n",
       "      <td>0.0</td>\n",
       "      <td>0.0</td>\n",
       "      <td>0.0</td>\n",
       "      <td>0.0</td>\n",
       "      <td>0.0</td>\n",
       "      <td>0.0</td>\n",
       "      <td>1.0</td>\n",
       "      <td>5.0</td>\n",
       "      <td>0.0</td>\n",
       "    </tr>\n",
       "    <tr>\n",
       "      <th>Automation Tools for Institutions</th>\n",
       "      <td>1.0</td>\n",
       "      <td>0.0</td>\n",
       "      <td>0.0</td>\n",
       "      <td>0.0</td>\n",
       "      <td>3.0</td>\n",
       "      <td>0.0</td>\n",
       "      <td>0.0</td>\n",
       "      <td>0.0</td>\n",
       "      <td>0.0</td>\n",
       "      <td>0.0</td>\n",
       "      <td>0.0</td>\n",
       "      <td>3.0</td>\n",
       "      <td>9.0</td>\n",
       "      <td>0.0</td>\n",
       "    </tr>\n",
       "    <tr>\n",
       "      <th>B2B Edtech Products for Schools</th>\n",
       "      <td>0.0</td>\n",
       "      <td>0.0</td>\n",
       "      <td>0.0</td>\n",
       "      <td>0.0</td>\n",
       "      <td>3.0</td>\n",
       "      <td>0.0</td>\n",
       "      <td>0.0</td>\n",
       "      <td>0.0</td>\n",
       "      <td>0.0</td>\n",
       "      <td>0.0</td>\n",
       "      <td>0.0</td>\n",
       "      <td>1.0</td>\n",
       "      <td>2.0</td>\n",
       "      <td>0.0</td>\n",
       "    </tr>\n",
       "    <tr>\n",
       "      <th>Community and Crowd Sourcing Products</th>\n",
       "      <td>0.0</td>\n",
       "      <td>0.0</td>\n",
       "      <td>0.0</td>\n",
       "      <td>0.0</td>\n",
       "      <td>1.0</td>\n",
       "      <td>0.0</td>\n",
       "      <td>1.0</td>\n",
       "      <td>0.0</td>\n",
       "      <td>0.0</td>\n",
       "      <td>0.0</td>\n",
       "      <td>0.0</td>\n",
       "      <td>0.0</td>\n",
       "      <td>1.0</td>\n",
       "      <td>0.0</td>\n",
       "    </tr>\n",
       "    <tr>\n",
       "      <th>Content Publishers</th>\n",
       "      <td>0.0</td>\n",
       "      <td>0.0</td>\n",
       "      <td>0.0</td>\n",
       "      <td>0.0</td>\n",
       "      <td>0.0</td>\n",
       "      <td>0.0</td>\n",
       "      <td>0.0</td>\n",
       "      <td>0.0</td>\n",
       "      <td>0.0</td>\n",
       "      <td>0.0</td>\n",
       "      <td>0.0</td>\n",
       "      <td>0.0</td>\n",
       "      <td>2.0</td>\n",
       "      <td>0.0</td>\n",
       "    </tr>\n",
       "    <tr>\n",
       "      <th>Edtech Hardware</th>\n",
       "      <td>0.0</td>\n",
       "      <td>0.0</td>\n",
       "      <td>0.0</td>\n",
       "      <td>0.0</td>\n",
       "      <td>2.0</td>\n",
       "      <td>0.0</td>\n",
       "      <td>0.0</td>\n",
       "      <td>0.0</td>\n",
       "      <td>0.0</td>\n",
       "      <td>0.0</td>\n",
       "      <td>0.0</td>\n",
       "      <td>0.0</td>\n",
       "      <td>0.0</td>\n",
       "      <td>0.0</td>\n",
       "    </tr>\n",
       "    <tr>\n",
       "      <th>Edtech Marketplace</th>\n",
       "      <td>2.0</td>\n",
       "      <td>1.0</td>\n",
       "      <td>0.0</td>\n",
       "      <td>0.0</td>\n",
       "      <td>6.0</td>\n",
       "      <td>0.0</td>\n",
       "      <td>0.0</td>\n",
       "      <td>0.0</td>\n",
       "      <td>1.0</td>\n",
       "      <td>0.0</td>\n",
       "      <td>0.0</td>\n",
       "      <td>0.0</td>\n",
       "      <td>10.0</td>\n",
       "      <td>0.0</td>\n",
       "    </tr>\n",
       "    <tr>\n",
       "      <th>Educational Games</th>\n",
       "      <td>0.0</td>\n",
       "      <td>0.0</td>\n",
       "      <td>0.0</td>\n",
       "      <td>0.0</td>\n",
       "      <td>2.0</td>\n",
       "      <td>0.0</td>\n",
       "      <td>0.0</td>\n",
       "      <td>1.0</td>\n",
       "      <td>0.0</td>\n",
       "      <td>0.0</td>\n",
       "      <td>0.0</td>\n",
       "      <td>0.0</td>\n",
       "      <td>4.0</td>\n",
       "      <td>0.0</td>\n",
       "    </tr>\n",
       "    <tr>\n",
       "      <th>Language Learning</th>\n",
       "      <td>0.0</td>\n",
       "      <td>2.0</td>\n",
       "      <td>0.0</td>\n",
       "      <td>0.0</td>\n",
       "      <td>2.0</td>\n",
       "      <td>0.0</td>\n",
       "      <td>0.0</td>\n",
       "      <td>0.0</td>\n",
       "      <td>0.0</td>\n",
       "      <td>0.0</td>\n",
       "      <td>1.0</td>\n",
       "      <td>0.0</td>\n",
       "      <td>1.0</td>\n",
       "      <td>0.0</td>\n",
       "    </tr>\n",
       "    <tr>\n",
       "      <th>Mobile Apps</th>\n",
       "      <td>1.0</td>\n",
       "      <td>0.0</td>\n",
       "      <td>0.0</td>\n",
       "      <td>0.0</td>\n",
       "      <td>7.0</td>\n",
       "      <td>0.0</td>\n",
       "      <td>0.0</td>\n",
       "      <td>0.0</td>\n",
       "      <td>0.0</td>\n",
       "      <td>1.0</td>\n",
       "      <td>0.0</td>\n",
       "      <td>1.0</td>\n",
       "      <td>6.0</td>\n",
       "      <td>0.0</td>\n",
       "    </tr>\n",
       "    <tr>\n",
       "      <th>Online Courses for Schools</th>\n",
       "      <td>0.0</td>\n",
       "      <td>0.0</td>\n",
       "      <td>0.0</td>\n",
       "      <td>0.0</td>\n",
       "      <td>3.0</td>\n",
       "      <td>0.0</td>\n",
       "      <td>0.0</td>\n",
       "      <td>0.0</td>\n",
       "      <td>0.0</td>\n",
       "      <td>0.0</td>\n",
       "      <td>0.0</td>\n",
       "      <td>0.0</td>\n",
       "      <td>0.0</td>\n",
       "      <td>0.0</td>\n",
       "    </tr>\n",
       "    <tr>\n",
       "      <th>Online Higher Education</th>\n",
       "      <td>0.0</td>\n",
       "      <td>0.0</td>\n",
       "      <td>0.0</td>\n",
       "      <td>0.0</td>\n",
       "      <td>1.0</td>\n",
       "      <td>0.0</td>\n",
       "      <td>0.0</td>\n",
       "      <td>0.0</td>\n",
       "      <td>0.0</td>\n",
       "      <td>0.0</td>\n",
       "      <td>0.0</td>\n",
       "      <td>0.0</td>\n",
       "      <td>2.0</td>\n",
       "      <td>0.0</td>\n",
       "    </tr>\n",
       "    <tr>\n",
       "      <th>Online Vocational and Hobby Courses</th>\n",
       "      <td>0.0</td>\n",
       "      <td>0.0</td>\n",
       "      <td>0.0</td>\n",
       "      <td>0.0</td>\n",
       "      <td>0.0</td>\n",
       "      <td>0.0</td>\n",
       "      <td>0.0</td>\n",
       "      <td>0.0</td>\n",
       "      <td>0.0</td>\n",
       "      <td>0.0</td>\n",
       "      <td>0.0</td>\n",
       "      <td>0.0</td>\n",
       "      <td>3.0</td>\n",
       "      <td>0.0</td>\n",
       "    </tr>\n",
       "    <tr>\n",
       "      <th>Platforms and LMS</th>\n",
       "      <td>1.0</td>\n",
       "      <td>0.0</td>\n",
       "      <td>2.0</td>\n",
       "      <td>0.0</td>\n",
       "      <td>10.0</td>\n",
       "      <td>0.0</td>\n",
       "      <td>0.0</td>\n",
       "      <td>0.0</td>\n",
       "      <td>0.0</td>\n",
       "      <td>0.0</td>\n",
       "      <td>0.0</td>\n",
       "      <td>1.0</td>\n",
       "      <td>10.0</td>\n",
       "      <td>0.0</td>\n",
       "    </tr>\n",
       "    <tr>\n",
       "      <th>Pre K 12</th>\n",
       "      <td>0.0</td>\n",
       "      <td>0.0</td>\n",
       "      <td>0.0</td>\n",
       "      <td>0.0</td>\n",
       "      <td>0.0</td>\n",
       "      <td>0.0</td>\n",
       "      <td>0.0</td>\n",
       "      <td>0.0</td>\n",
       "      <td>0.0</td>\n",
       "      <td>1.0</td>\n",
       "      <td>0.0</td>\n",
       "      <td>0.0</td>\n",
       "      <td>0.0</td>\n",
       "      <td>0.0</td>\n",
       "    </tr>\n",
       "    <tr>\n",
       "      <th>Saas Products</th>\n",
       "      <td>0.0</td>\n",
       "      <td>0.0</td>\n",
       "      <td>0.0</td>\n",
       "      <td>0.0</td>\n",
       "      <td>0.0</td>\n",
       "      <td>0.0</td>\n",
       "      <td>0.0</td>\n",
       "      <td>0.0</td>\n",
       "      <td>0.0</td>\n",
       "      <td>0.0</td>\n",
       "      <td>0.0</td>\n",
       "      <td>0.0</td>\n",
       "      <td>1.0</td>\n",
       "      <td>0.0</td>\n",
       "    </tr>\n",
       "    <tr>\n",
       "      <th>Test Preparation</th>\n",
       "      <td>0.0</td>\n",
       "      <td>0.0</td>\n",
       "      <td>0.0</td>\n",
       "      <td>0.0</td>\n",
       "      <td>12.0</td>\n",
       "      <td>0.0</td>\n",
       "      <td>0.0</td>\n",
       "      <td>0.0</td>\n",
       "      <td>0.0</td>\n",
       "      <td>0.0</td>\n",
       "      <td>0.0</td>\n",
       "      <td>0.0</td>\n",
       "      <td>3.0</td>\n",
       "      <td>1.0</td>\n",
       "    </tr>\n",
       "    <tr>\n",
       "      <th>Tools for Educators</th>\n",
       "      <td>0.0</td>\n",
       "      <td>0.0</td>\n",
       "      <td>0.0</td>\n",
       "      <td>0.0</td>\n",
       "      <td>0.0</td>\n",
       "      <td>0.0</td>\n",
       "      <td>0.0</td>\n",
       "      <td>0.0</td>\n",
       "      <td>1.0</td>\n",
       "      <td>0.0</td>\n",
       "      <td>0.0</td>\n",
       "      <td>0.0</td>\n",
       "      <td>6.0</td>\n",
       "      <td>0.0</td>\n",
       "    </tr>\n",
       "    <tr>\n",
       "      <th>Tutoring</th>\n",
       "      <td>1.0</td>\n",
       "      <td>2.0</td>\n",
       "      <td>0.0</td>\n",
       "      <td>0.0</td>\n",
       "      <td>4.0</td>\n",
       "      <td>0.0</td>\n",
       "      <td>0.0</td>\n",
       "      <td>0.0</td>\n",
       "      <td>1.0</td>\n",
       "      <td>0.0</td>\n",
       "      <td>0.0</td>\n",
       "      <td>0.0</td>\n",
       "      <td>2.0</td>\n",
       "      <td>1.0</td>\n",
       "    </tr>\n",
       "  </tbody>\n",
       "</table>\n",
       "</div>"
      ],
      "text/plain": [
       "Country                                Canada  China  Finland  Germany  India  \\\n",
       "Segment                                                                         \n",
       "Accelerators and Incubators               0.0    0.0      0.0      0.0    0.0   \n",
       "Adult and Continuing Education            2.0    0.0      0.0      1.0    6.0   \n",
       "Assessment Companies                      0.0    0.0      0.0      0.0    0.0   \n",
       "Automation Tools for Institutions         1.0    0.0      0.0      0.0    3.0   \n",
       "B2B Edtech Products for Schools           0.0    0.0      0.0      0.0    3.0   \n",
       "Community and Crowd Sourcing Products     0.0    0.0      0.0      0.0    1.0   \n",
       "Content Publishers                        0.0    0.0      0.0      0.0    0.0   \n",
       "Edtech Hardware                           0.0    0.0      0.0      0.0    2.0   \n",
       "Edtech Marketplace                        2.0    1.0      0.0      0.0    6.0   \n",
       "Educational Games                         0.0    0.0      0.0      0.0    2.0   \n",
       "Language Learning                         0.0    2.0      0.0      0.0    2.0   \n",
       "Mobile Apps                               1.0    0.0      0.0      0.0    7.0   \n",
       "Online Courses for Schools                0.0    0.0      0.0      0.0    3.0   \n",
       "Online Higher Education                   0.0    0.0      0.0      0.0    1.0   \n",
       "Online Vocational and Hobby Courses       0.0    0.0      0.0      0.0    0.0   \n",
       "Platforms and LMS                         1.0    0.0      2.0      0.0   10.0   \n",
       "Pre K 12                                  0.0    0.0      0.0      0.0    0.0   \n",
       "Saas Products                             0.0    0.0      0.0      0.0    0.0   \n",
       "Test Preparation                          0.0    0.0      0.0      0.0   12.0   \n",
       "Tools for Educators                       0.0    0.0      0.0      0.0    0.0   \n",
       "Tutoring                                  1.0    2.0      0.0      0.0    4.0   \n",
       "\n",
       "Country                                Ireland  Italy  Norway  Singapore  \\\n",
       "Segment                                                                    \n",
       "Accelerators and Incubators                2.0    0.0     0.0        0.0   \n",
       "Adult and Continuing Education             0.0    0.0     0.0        0.0   \n",
       "Assessment Companies                       0.0    0.0     0.0        0.0   \n",
       "Automation Tools for Institutions          0.0    0.0     0.0        0.0   \n",
       "B2B Edtech Products for Schools            0.0    0.0     0.0        0.0   \n",
       "Community and Crowd Sourcing Products      0.0    1.0     0.0        0.0   \n",
       "Content Publishers                         0.0    0.0     0.0        0.0   \n",
       "Edtech Hardware                            0.0    0.0     0.0        0.0   \n",
       "Edtech Marketplace                         0.0    0.0     0.0        1.0   \n",
       "Educational Games                          0.0    0.0     1.0        0.0   \n",
       "Language Learning                          0.0    0.0     0.0        0.0   \n",
       "Mobile Apps                                0.0    0.0     0.0        0.0   \n",
       "Online Courses for Schools                 0.0    0.0     0.0        0.0   \n",
       "Online Higher Education                    0.0    0.0     0.0        0.0   \n",
       "Online Vocational and Hobby Courses        0.0    0.0     0.0        0.0   \n",
       "Platforms and LMS                          0.0    0.0     0.0        0.0   \n",
       "Pre K 12                                   0.0    0.0     0.0        0.0   \n",
       "Saas Products                              0.0    0.0     0.0        0.0   \n",
       "Test Preparation                           0.0    0.0     0.0        0.0   \n",
       "Tools for Educators                        0.0    0.0     0.0        1.0   \n",
       "Tutoring                                   0.0    0.0     0.0        1.0   \n",
       "\n",
       "Country                                South Korea  Spain   UK    US  Vietnam  \n",
       "Segment                                                                        \n",
       "Accelerators and Incubators                    0.0    0.0  0.0   9.0      0.0  \n",
       "Adult and Continuing Education                 0.0    0.0  1.0  16.0      0.0  \n",
       "Assessment Companies                           0.0    0.0  1.0   5.0      0.0  \n",
       "Automation Tools for Institutions              0.0    0.0  3.0   9.0      0.0  \n",
       "B2B Edtech Products for Schools                0.0    0.0  1.0   2.0      0.0  \n",
       "Community and Crowd Sourcing Products          0.0    0.0  0.0   1.0      0.0  \n",
       "Content Publishers                             0.0    0.0  0.0   2.0      0.0  \n",
       "Edtech Hardware                                0.0    0.0  0.0   0.0      0.0  \n",
       "Edtech Marketplace                             0.0    0.0  0.0  10.0      0.0  \n",
       "Educational Games                              0.0    0.0  0.0   4.0      0.0  \n",
       "Language Learning                              0.0    1.0  0.0   1.0      0.0  \n",
       "Mobile Apps                                    1.0    0.0  1.0   6.0      0.0  \n",
       "Online Courses for Schools                     0.0    0.0  0.0   0.0      0.0  \n",
       "Online Higher Education                        0.0    0.0  0.0   2.0      0.0  \n",
       "Online Vocational and Hobby Courses            0.0    0.0  0.0   3.0      0.0  \n",
       "Platforms and LMS                              0.0    0.0  1.0  10.0      0.0  \n",
       "Pre K 12                                       1.0    0.0  0.0   0.0      0.0  \n",
       "Saas Products                                  0.0    0.0  0.0   1.0      0.0  \n",
       "Test Preparation                               0.0    0.0  0.0   3.0      1.0  \n",
       "Tools for Educators                            0.0    0.0  0.0   6.0      0.0  \n",
       "Tutoring                                       0.0    0.0  0.0   2.0      1.0  "
      ]
     },
     "execution_count": 32,
     "metadata": {},
     "output_type": "execute_result"
    }
   ],
   "source": [
    "gp"
   ]
  },
  {
   "cell_type": "markdown",
   "metadata": {
    "collapsed": true
   },
   "source": [
    "#### - Abhishek Chhibber"
   ]
  }
 ],
 "metadata": {
  "anaconda-cloud": {},
  "kernelspec": {
   "display_name": "Python [default]",
   "language": "python",
   "name": "python3"
  },
  "language_info": {
   "codemirror_mode": {
    "name": "ipython",
    "version": 3
   },
   "file_extension": ".py",
   "mimetype": "text/x-python",
   "name": "python",
   "nbconvert_exporter": "python",
   "pygments_lexer": "ipython3",
   "version": "3.5.2"
  }
 },
 "nbformat": 4,
 "nbformat_minor": 1
}
